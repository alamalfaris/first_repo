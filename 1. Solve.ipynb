{
 "cells": [
  {
   "cell_type": "markdown",
   "metadata": {},
   "source": [
    "### Solve it # 1\n",
    "\n",
    "x = 4, y = 3, z = 2\n",
    "\n",
    "w = ((x+y*z) / (x * y)) ** z = ?"
   ]
  },
  {
   "cell_type": "code",
   "execution_count": 1,
   "metadata": {},
   "outputs": [
    {
     "name": "stdout",
     "output_type": "stream",
     "text": [
      "0.6944444444444445\n"
     ]
    }
   ],
   "source": [
    "x, y, z = 4, 3, 2\n",
    "\n",
    "w = ((x + y * z) / (x * y)) ** z\n",
    "print(w)"
   ]
  },
  {
   "cell_type": "markdown",
   "metadata": {},
   "source": [
    "### Solve it # 2"
   ]
  },
  {
   "cell_type": "code",
   "execution_count": 3,
   "metadata": {},
   "outputs": [
    {
     "name": "stdout",
     "output_type": "stream",
     "text": [
      "Masukkan angka : 4\n",
      "Kuadrat dari 4 adalah 16\n"
     ]
    }
   ],
   "source": [
    "num = int(input('Masukkan angka : '))\n",
    "\n",
    "print('Kuadrat dari {} adalah {}'. format(num, num**2))"
   ]
  },
  {
   "cell_type": "markdown",
   "metadata": {},
   "source": [
    "### Solve it # 3\n",
    "\n",
    "485 hari, nyatakan dalam __ tahun __ bulan __ hari\n",
    "\n",
    "*1 bulan = 30 hari, 1 tahun = 360 hari"
   ]
  },
  {
   "cell_type": "code",
   "execution_count": 18,
   "metadata": {},
   "outputs": [
    {
     "name": "stdout",
     "output_type": "stream",
     "text": [
      "Masukkan jumlah hari : 361\n",
      "1 tahun 0 bulan 1 hari\n"
     ]
    }
   ],
   "source": [
    "hari = int(input('Masukkan jumlah hari : '))\n",
    "\n",
    "tahun = (hari // 360)\n",
    "bulan = (hari - 360) // 30\n",
    "hari = (hari - 360) % 30\n",
    "\n",
    "print(tahun, 'tahun', bulan, 'bulan', hari, 'hari')"
   ]
  },
  {
   "cell_type": "markdown",
   "metadata": {},
   "source": [
    "### Solve it # 4\n",
    "\n",
    "jumlah usia Andi & usia Budi = 49 tahun, rasio antara usia Andi & Budi = 0.4\n",
    "\n",
    "berapa usia Andi & Budi 2 tahun lagi??"
   ]
  },
  {
   "cell_type": "code",
   "execution_count": 20,
   "metadata": {},
   "outputs": [
    {
     "name": "stdout",
     "output_type": "stream",
     "text": [
      "Berapa jumlah usia Andi & Budi : 49\n",
      "Berapa rasio usia Andi & Budi : 0.4\n",
      "usia Andi :  14.0\n",
      "usia Budi :  35.0\n",
      "2 tahun lagi usia Andi :  16.0\n",
      "2 tahun lagi usia Budi :  37.0\n"
     ]
    }
   ],
   "source": [
    "jml_usia = int(input('Berapa jumlah usia Andi & Budi : '))\n",
    "rasio = float(input('Berapa rasio usia Andi & Budi : '))\n",
    "\n",
    "budi = (jml_usia * 10) / (10 + (rasio * 10))\n",
    "andi = jml_usia - budi\n",
    "\n",
    "print('usia Andi : ', andi)\n",
    "print('usia Budi : ', budi)\n",
    "\n",
    "print('2 tahun lagi usia Andi : ', andi+2)\n",
    "print('2 tahun lagi usia Budi : ', budi+2)"
   ]
  },
  {
   "cell_type": "markdown",
   "metadata": {},
   "source": [
    "### Solve it # 5"
   ]
  },
  {
   "cell_type": "code",
   "execution_count": 21,
   "metadata": {},
   "outputs": [
    {
     "name": "stdout",
     "output_type": "stream",
     "text": [
      "Masukkan kalimat : aku cinta dia\n",
      "Huruf yg mau dicari : a\n",
      "Jumlah huruf a dalam aku cinta dia sebanyak 3\n"
     ]
    }
   ],
   "source": [
    "kalimat = input('Masukkan kalimat : ')\n",
    "target = input('Huruf yg mau dicari : ')\n",
    "jml_huruf = kalimat.count(target, 0, len(kalimat))\n",
    "\n",
    "print('Jumlah huruf {} dalam {} sebanyak {}'. format(target, kalimat, jml_huruf))"
   ]
  },
  {
   "cell_type": "markdown",
   "metadata": {},
   "source": [
    "### Solve it # 6\n",
    "\n",
    "Jarak antara mobil A & B = 120 km\n",
    "\n",
    "Kecepatan mobil A = 60 km/jam -- Kecepatan mobil B = 40 km/jam\n",
    "\n",
    "Otw nya pukul 09.00 -- Pada jam berapa mereka tabrakan?"
   ]
  },
  {
   "cell_type": "code",
   "execution_count": 28,
   "metadata": {},
   "outputs": [
    {
     "name": "stdout",
     "output_type": "stream",
     "text": [
      "Berapa jarak antar mobil (km) : 120\n",
      "Berapa kecepatan mobil A (km/jam) : 60\n",
      "Berapa kecepatan mobil B (km/jam) : 40\n",
      "Jam berapa otw nya : 9\n",
      "Menit berapa otw nya : 0\n",
      "Rentang waktu sebelum tabrakan  72.0 menit\n"
     ]
    }
   ],
   "source": [
    "import math\n",
    "\n",
    "jarak = int(input('Berapa jarak antar mobil (km) : '))\n",
    "veloA = int(input('Berapa kecepatan mobil A (km/jam) : '))\n",
    "veloB = int(input('Berapa kecepatan mobil B (km/jam) : '))\n",
    "jam_otw = int(input('Jam berapa otw nya : '))\n",
    "menit_otw = int(input('Menit berapa otw nya : '))\n",
    "\n",
    "rentang_wkt_menit = (jarak / (veloA + veloB)) * 60\n",
    "print('Rentang waktu sebelum tabrakan ', rentang_wkt_menit, 'menit')"
   ]
  },
  {
   "cell_type": "code",
   "execution_count": null,
   "metadata": {},
   "outputs": [],
   "source": []
  }
 ],
 "metadata": {
  "kernelspec": {
   "display_name": "Python 3",
   "language": "python",
   "name": "python3"
  },
  "language_info": {
   "codemirror_mode": {
    "name": "ipython",
    "version": 3
   },
   "file_extension": ".py",
   "mimetype": "text/x-python",
   "name": "python",
   "nbconvert_exporter": "python",
   "pygments_lexer": "ipython3",
   "version": "3.7.6"
  }
 },
 "nbformat": 4,
 "nbformat_minor": 4
}
